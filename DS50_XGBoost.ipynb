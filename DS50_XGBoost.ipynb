{
 "cells": [
  {
   "cell_type": "code",
   "execution_count": 1,
   "id": "de88e120",
   "metadata": {},
   "outputs": [],
   "source": [
    "import numpy as np\n",
    "import pandas as pd\n",
    "import sklearn\n",
    "import xgboost as xgb\n",
    "\n",
    "import cv2\n",
    "\n",
    "import os\n",
    "from os import listdir\n",
    "from os.path import isfile, join\n",
    "\n",
    "import wandb\n",
    "import gc\n",
    "from tqdm.notebook import tqdm\n",
    "import ipywidgets as widgets\n",
    "\n",
    "import matplotlib.pyplot as plt\n",
    "from sklearn.datasets import make_classification\n",
    "from sklearn.metrics import confusion_matrix, ConfusionMatrixDisplay\n",
    "from sklearn.metrics import accuracy_score"
   ]
  },
  {
   "cell_type": "code",
   "execution_count": 2,
   "id": "e954ad17",
   "metadata": {},
   "outputs": [],
   "source": [
    "VERSION = 'XGBoost_V1'"
   ]
  },
  {
   "cell_type": "code",
   "execution_count": 3,
   "id": "41b4f9ce",
   "metadata": {},
   "outputs": [
    {
     "name": "stdout",
     "output_type": "stream",
     "text": [
      "Taille du dataset train_normal_images : 148\n",
      "Taille du dataset train_adenocarcinoma_images : 195\n",
      "Taille du dataset train_large_cell_carcinoma_images : 115\n",
      "Taille du dataset train_squamous_cell_carcinoma_images : 155\n",
      "Taille du dataset valid_normal_images : 13\n",
      "Taille du dataset valid_adenocarcinoma_images : 23\n",
      "Taille du dataset valid_large_cell_carcinoma_images : 21\n",
      "Taille du dataset valid_squamous_cell_carcinoma_images : 15\n",
      "Taille du dataset test_normal_images : 54\n",
      "Taille du dataset test_adenocarcinoma_images : 120\n",
      "Taille du dataset test_large_cell_carcinoma_images : 51\n",
      "Taille du dataset test_squamous_cell_carcinoma_images : 90\n"
     ]
    }
   ],
   "source": [
    "dataset_types = ['train','valid','test']\n",
    "\n",
    "images_lists = {}\n",
    "for dataset_type in dataset_types:\n",
    "    for cancer_type in ['normal','adenocarcinoma','large_cell_carcinoma','squamous_cell_carcinoma']:\n",
    "        images_lists[f'{dataset_type}_{cancer_type}_images'] = [f'images/{dataset_type}/{cancer_type}/{i}' \n",
    "                                                                for i in listdir(f'images/{dataset_type}/{cancer_type}')]\n",
    "        print(f\"Taille du dataset {dataset_type}_{cancer_type}_images : {len(images_lists[f'{dataset_type}_{cancer_type}_images'])}\")\n",
    "\n",
    "# We can see that the datasets are balanced"
   ]
  },
  {
   "cell_type": "code",
   "execution_count": 4,
   "id": "cabed18e",
   "metadata": {},
   "outputs": [],
   "source": [
    "dataframes = {}\n",
    "for dataset_type in dataset_types:\n",
    "    dataframes[f'{dataset_type}'] = pd.DataFrame(columns=['image_id','label'])\n",
    "    dataframes[f'{dataset_type}']['image_id'] = images_lists[f'{dataset_type}_normal_images'] + images_lists[f'{dataset_type}_adenocarcinoma_images'] + images_lists[f'{dataset_type}_large_cell_carcinoma_images'] + images_lists[f'{dataset_type}_squamous_cell_carcinoma_images']\n",
    "    \n",
    "    dataframes[f'{dataset_type}']['label'] = np.zeros_like(images_lists[f'{dataset_type}_normal_images'],dtype=int).tolist()+np.ones_like(images_lists[f'{dataset_type}_adenocarcinoma_images'],dtype=int).tolist()+np.full_like(images_lists[f'{dataset_type}_large_cell_carcinoma_images'],2,dtype=int).tolist()+np.full_like(images_lists[f'{dataset_type}_squamous_cell_carcinoma_images'],3,dtype=int).tolist()"
   ]
  },
  {
   "cell_type": "code",
   "execution_count": 5,
   "id": "e781fa28",
   "metadata": {},
   "outputs": [
    {
     "data": {
      "text/html": [
       "<div>\n",
       "<style scoped>\n",
       "    .dataframe tbody tr th:only-of-type {\n",
       "        vertical-align: middle;\n",
       "    }\n",
       "\n",
       "    .dataframe tbody tr th {\n",
       "        vertical-align: top;\n",
       "    }\n",
       "\n",
       "    .dataframe thead th {\n",
       "        text-align: right;\n",
       "    }\n",
       "</style>\n",
       "<table border=\"1\" class=\"dataframe\">\n",
       "  <thead>\n",
       "    <tr style=\"text-align: right;\">\n",
       "      <th></th>\n",
       "      <th>image_id</th>\n",
       "      <th>label</th>\n",
       "    </tr>\n",
       "  </thead>\n",
       "  <tbody>\n",
       "    <tr>\n",
       "      <th>0</th>\n",
       "      <td>images/train/normal/19 - Copy.png</td>\n",
       "      <td>0</td>\n",
       "    </tr>\n",
       "    <tr>\n",
       "      <th>1</th>\n",
       "      <td>images/train/normal/11 - Copy (2) - Copy.png</td>\n",
       "      <td>0</td>\n",
       "    </tr>\n",
       "    <tr>\n",
       "      <th>2</th>\n",
       "      <td>images/train/normal/n6 - Copy.jpg</td>\n",
       "      <td>0</td>\n",
       "    </tr>\n",
       "    <tr>\n",
       "      <th>3</th>\n",
       "      <td>images/train/normal/7.png</td>\n",
       "      <td>0</td>\n",
       "    </tr>\n",
       "    <tr>\n",
       "      <th>4</th>\n",
       "      <td>images/train/normal/16 - Copy.png</td>\n",
       "      <td>0</td>\n",
       "    </tr>\n",
       "  </tbody>\n",
       "</table>\n",
       "</div>"
      ],
      "text/plain": [
       "                                       image_id  label\n",
       "0             images/train/normal/19 - Copy.png      0\n",
       "1  images/train/normal/11 - Copy (2) - Copy.png      0\n",
       "2             images/train/normal/n6 - Copy.jpg      0\n",
       "3                     images/train/normal/7.png      0\n",
       "4             images/train/normal/16 - Copy.png      0"
      ]
     },
     "execution_count": 5,
     "metadata": {},
     "output_type": "execute_result"
    }
   ],
   "source": [
    "dataframes[f'train'].head()"
   ]
  },
  {
   "cell_type": "code",
   "execution_count": 6,
   "id": "48ac8d04",
   "metadata": {},
   "outputs": [
    {
     "name": "stdout",
     "output_type": "stream",
     "text": [
      "613 72 315\n"
     ]
    }
   ],
   "source": [
    "print(len(dataframes['train']),len(dataframes['valid']),len(dataframes['test']))"
   ]
  },
  {
   "cell_type": "code",
   "execution_count": 7,
   "id": "2b87131c",
   "metadata": {},
   "outputs": [
    {
     "data": {
      "text/html": [
       "<div>\n",
       "<style scoped>\n",
       "    .dataframe tbody tr th:only-of-type {\n",
       "        vertical-align: middle;\n",
       "    }\n",
       "\n",
       "    .dataframe tbody tr th {\n",
       "        vertical-align: top;\n",
       "    }\n",
       "\n",
       "    .dataframe thead th {\n",
       "        text-align: right;\n",
       "    }\n",
       "</style>\n",
       "<table border=\"1\" class=\"dataframe\">\n",
       "  <thead>\n",
       "    <tr style=\"text-align: right;\">\n",
       "      <th></th>\n",
       "      <th>image_id</th>\n",
       "      <th>label</th>\n",
       "    </tr>\n",
       "  </thead>\n",
       "  <tbody>\n",
       "    <tr>\n",
       "      <th>0</th>\n",
       "      <td>images/valid/normal/7.png</td>\n",
       "      <td>0</td>\n",
       "    </tr>\n",
       "    <tr>\n",
       "      <th>1</th>\n",
       "      <td>images/valid/normal/6 - Copy (3).png</td>\n",
       "      <td>0</td>\n",
       "    </tr>\n",
       "    <tr>\n",
       "      <th>2</th>\n",
       "      <td>images/valid/normal/004007_01_01_519.png</td>\n",
       "      <td>0</td>\n",
       "    </tr>\n",
       "    <tr>\n",
       "      <th>3</th>\n",
       "      <td>images/valid/normal/7 - Copy (2).png</td>\n",
       "      <td>0</td>\n",
       "    </tr>\n",
       "    <tr>\n",
       "      <th>4</th>\n",
       "      <td>images/valid/normal/6 - Copy.png</td>\n",
       "      <td>0</td>\n",
       "    </tr>\n",
       "    <tr>\n",
       "      <th>5</th>\n",
       "      <td>images/valid/normal/4 (2).png</td>\n",
       "      <td>0</td>\n",
       "    </tr>\n",
       "    <tr>\n",
       "      <th>6</th>\n",
       "      <td>images/valid/normal/003828_02_01_174.png</td>\n",
       "      <td>0</td>\n",
       "    </tr>\n",
       "    <tr>\n",
       "      <th>7</th>\n",
       "      <td>images/valid/normal/4 - Copy (2).png</td>\n",
       "      <td>0</td>\n",
       "    </tr>\n",
       "    <tr>\n",
       "      <th>8</th>\n",
       "      <td>images/valid/normal/5.png</td>\n",
       "      <td>0</td>\n",
       "    </tr>\n",
       "    <tr>\n",
       "      <th>9</th>\n",
       "      <td>images/valid/normal/004162_01_01_150.png</td>\n",
       "      <td>0</td>\n",
       "    </tr>\n",
       "    <tr>\n",
       "      <th>10</th>\n",
       "      <td>images/valid/normal/7 - Copy (3).png</td>\n",
       "      <td>0</td>\n",
       "    </tr>\n",
       "    <tr>\n",
       "      <th>11</th>\n",
       "      <td>images/valid/normal/6 - Copy (2) - Copy.png</td>\n",
       "      <td>0</td>\n",
       "    </tr>\n",
       "    <tr>\n",
       "      <th>12</th>\n",
       "      <td>images/valid/normal/8 - Copy (3).png</td>\n",
       "      <td>0</td>\n",
       "    </tr>\n",
       "    <tr>\n",
       "      <th>13</th>\n",
       "      <td>images/valid/adenocarcinoma/000109 (8).png</td>\n",
       "      <td>1</td>\n",
       "    </tr>\n",
       "    <tr>\n",
       "      <th>14</th>\n",
       "      <td>images/valid/adenocarcinoma/000109 (3).png</td>\n",
       "      <td>1</td>\n",
       "    </tr>\n",
       "  </tbody>\n",
       "</table>\n",
       "</div>"
      ],
      "text/plain": [
       "                                       image_id  label\n",
       "0                     images/valid/normal/7.png      0\n",
       "1          images/valid/normal/6 - Copy (3).png      0\n",
       "2      images/valid/normal/004007_01_01_519.png      0\n",
       "3          images/valid/normal/7 - Copy (2).png      0\n",
       "4              images/valid/normal/6 - Copy.png      0\n",
       "5                 images/valid/normal/4 (2).png      0\n",
       "6      images/valid/normal/003828_02_01_174.png      0\n",
       "7          images/valid/normal/4 - Copy (2).png      0\n",
       "8                     images/valid/normal/5.png      0\n",
       "9      images/valid/normal/004162_01_01_150.png      0\n",
       "10         images/valid/normal/7 - Copy (3).png      0\n",
       "11  images/valid/normal/6 - Copy (2) - Copy.png      0\n",
       "12         images/valid/normal/8 - Copy (3).png      0\n",
       "13   images/valid/adenocarcinoma/000109 (8).png      1\n",
       "14   images/valid/adenocarcinoma/000109 (3).png      1"
      ]
     },
     "execution_count": 7,
     "metadata": {},
     "output_type": "execute_result"
    }
   ],
   "source": [
    "dataframes[f'valid'].head(15)"
   ]
  },
  {
   "cell_type": "code",
   "execution_count": 9,
   "id": "040b1983",
   "metadata": {},
   "outputs": [],
   "source": [
    "image_size = (150, 150)\n",
    "\n",
    "hog = cv2.HOGDescriptor()\n",
    "X = {}\n",
    "for dataset_type in dataset_types:\n",
    "    X[dataset_type] = []\n",
    "    for img_path in dataframes[f'{dataset_type}']['image_id'].to_numpy():\n",
    "        img = cv2.imread(img_path)\n",
    "        img = cv2.resize(img, image_size)\n",
    "        img_gray = cv2.cvtColor(img, cv2.COLOR_BGR2GRAY)\n",
    "        feature_vector = hog.compute(img_gray)\n",
    "        X[dataset_type].append(feature_vector)\n",
    "    X[dataset_type] = np.array(X[dataset_type])\n",
    "    \n",
    "y = {}\n",
    "for dataset_type in dataset_types:\n",
    "    y[dataset_type] = dataframes[dataset_type]['label'].to_numpy()"
   ]
  },
  {
   "cell_type": "code",
   "execution_count": 10,
   "id": "81783a65",
   "metadata": {},
   "outputs": [
    {
     "data": {
      "text/html": [
       "<style>#sk-container-id-1 {color: black;background-color: white;}#sk-container-id-1 pre{padding: 0;}#sk-container-id-1 div.sk-toggleable {background-color: white;}#sk-container-id-1 label.sk-toggleable__label {cursor: pointer;display: block;width: 100%;margin-bottom: 0;padding: 0.3em;box-sizing: border-box;text-align: center;}#sk-container-id-1 label.sk-toggleable__label-arrow:before {content: \"▸\";float: left;margin-right: 0.25em;color: #696969;}#sk-container-id-1 label.sk-toggleable__label-arrow:hover:before {color: black;}#sk-container-id-1 div.sk-estimator:hover label.sk-toggleable__label-arrow:before {color: black;}#sk-container-id-1 div.sk-toggleable__content {max-height: 0;max-width: 0;overflow: hidden;text-align: left;background-color: #f0f8ff;}#sk-container-id-1 div.sk-toggleable__content pre {margin: 0.2em;color: black;border-radius: 0.25em;background-color: #f0f8ff;}#sk-container-id-1 input.sk-toggleable__control:checked~div.sk-toggleable__content {max-height: 200px;max-width: 100%;overflow: auto;}#sk-container-id-1 input.sk-toggleable__control:checked~label.sk-toggleable__label-arrow:before {content: \"▾\";}#sk-container-id-1 div.sk-estimator input.sk-toggleable__control:checked~label.sk-toggleable__label {background-color: #d4ebff;}#sk-container-id-1 div.sk-label input.sk-toggleable__control:checked~label.sk-toggleable__label {background-color: #d4ebff;}#sk-container-id-1 input.sk-hidden--visually {border: 0;clip: rect(1px 1px 1px 1px);clip: rect(1px, 1px, 1px, 1px);height: 1px;margin: -1px;overflow: hidden;padding: 0;position: absolute;width: 1px;}#sk-container-id-1 div.sk-estimator {font-family: monospace;background-color: #f0f8ff;border: 1px dotted black;border-radius: 0.25em;box-sizing: border-box;margin-bottom: 0.5em;}#sk-container-id-1 div.sk-estimator:hover {background-color: #d4ebff;}#sk-container-id-1 div.sk-parallel-item::after {content: \"\";width: 100%;border-bottom: 1px solid gray;flex-grow: 1;}#sk-container-id-1 div.sk-label:hover label.sk-toggleable__label {background-color: #d4ebff;}#sk-container-id-1 div.sk-serial::before {content: \"\";position: absolute;border-left: 1px solid gray;box-sizing: border-box;top: 0;bottom: 0;left: 50%;z-index: 0;}#sk-container-id-1 div.sk-serial {display: flex;flex-direction: column;align-items: center;background-color: white;padding-right: 0.2em;padding-left: 0.2em;position: relative;}#sk-container-id-1 div.sk-item {position: relative;z-index: 1;}#sk-container-id-1 div.sk-parallel {display: flex;align-items: stretch;justify-content: center;background-color: white;position: relative;}#sk-container-id-1 div.sk-item::before, #sk-container-id-1 div.sk-parallel-item::before {content: \"\";position: absolute;border-left: 1px solid gray;box-sizing: border-box;top: 0;bottom: 0;left: 50%;z-index: -1;}#sk-container-id-1 div.sk-parallel-item {display: flex;flex-direction: column;z-index: 1;position: relative;background-color: white;}#sk-container-id-1 div.sk-parallel-item:first-child::after {align-self: flex-end;width: 50%;}#sk-container-id-1 div.sk-parallel-item:last-child::after {align-self: flex-start;width: 50%;}#sk-container-id-1 div.sk-parallel-item:only-child::after {width: 0;}#sk-container-id-1 div.sk-dashed-wrapped {border: 1px dashed gray;margin: 0 0.4em 0.5em 0.4em;box-sizing: border-box;padding-bottom: 0.4em;background-color: white;}#sk-container-id-1 div.sk-label label {font-family: monospace;font-weight: bold;display: inline-block;line-height: 1.2em;}#sk-container-id-1 div.sk-label-container {text-align: center;}#sk-container-id-1 div.sk-container {/* jupyter's `normalize.less` sets `[hidden] { display: none; }` but bootstrap.min.css set `[hidden] { display: none !important; }` so we also need the `!important` here to be able to override the default hidden behavior on the sphinx rendered scikit-learn.org. See: https://github.com/scikit-learn/scikit-learn/issues/21755 */display: inline-block !important;position: relative;}#sk-container-id-1 div.sk-text-repr-fallback {display: none;}</style><div id=\"sk-container-id-1\" class=\"sk-top-container\"><div class=\"sk-text-repr-fallback\"><pre>XGBClassifier(base_score=None, booster=None, callbacks=None,\n",
       "              colsample_bylevel=None, colsample_bynode=None,\n",
       "              colsample_bytree=None, early_stopping_rounds=None,\n",
       "              enable_categorical=False, eval_metric=None, feature_types=None,\n",
       "              gamma=None, gpu_id=None, grow_policy=None, importance_type=None,\n",
       "              interaction_constraints=None, learning_rate=None, max_bin=None,\n",
       "              max_cat_threshold=None, max_cat_to_onehot=None,\n",
       "              max_delta_step=None, max_depth=None, max_leaves=None,\n",
       "              min_child_weight=None, missing=nan, monotone_constraints=None,\n",
       "              n_estimators=100, n_jobs=None, num_parallel_tree=None,\n",
       "              objective=&#x27;multi:softprob&#x27;, predictor=None, ...)</pre><b>In a Jupyter environment, please rerun this cell to show the HTML representation or trust the notebook. <br />On GitHub, the HTML representation is unable to render, please try loading this page with nbviewer.org.</b></div><div class=\"sk-container\" hidden><div class=\"sk-item\"><div class=\"sk-estimator sk-toggleable\"><input class=\"sk-toggleable__control sk-hidden--visually\" id=\"sk-estimator-id-1\" type=\"checkbox\" checked><label for=\"sk-estimator-id-1\" class=\"sk-toggleable__label sk-toggleable__label-arrow\">XGBClassifier</label><div class=\"sk-toggleable__content\"><pre>XGBClassifier(base_score=None, booster=None, callbacks=None,\n",
       "              colsample_bylevel=None, colsample_bynode=None,\n",
       "              colsample_bytree=None, early_stopping_rounds=None,\n",
       "              enable_categorical=False, eval_metric=None, feature_types=None,\n",
       "              gamma=None, gpu_id=None, grow_policy=None, importance_type=None,\n",
       "              interaction_constraints=None, learning_rate=None, max_bin=None,\n",
       "              max_cat_threshold=None, max_cat_to_onehot=None,\n",
       "              max_delta_step=None, max_depth=None, max_leaves=None,\n",
       "              min_child_weight=None, missing=nan, monotone_constraints=None,\n",
       "              n_estimators=100, n_jobs=None, num_parallel_tree=None,\n",
       "              objective=&#x27;multi:softprob&#x27;, predictor=None, ...)</pre></div></div></div></div></div>"
      ],
      "text/plain": [
       "XGBClassifier(base_score=None, booster=None, callbacks=None,\n",
       "              colsample_bylevel=None, colsample_bynode=None,\n",
       "              colsample_bytree=None, early_stopping_rounds=None,\n",
       "              enable_categorical=False, eval_metric=None, feature_types=None,\n",
       "              gamma=None, gpu_id=None, grow_policy=None, importance_type=None,\n",
       "              interaction_constraints=None, learning_rate=None, max_bin=None,\n",
       "              max_cat_threshold=None, max_cat_to_onehot=None,\n",
       "              max_delta_step=None, max_depth=None, max_leaves=None,\n",
       "              min_child_weight=None, missing=nan, monotone_constraints=None,\n",
       "              n_estimators=100, n_jobs=None, num_parallel_tree=None,\n",
       "              objective='multi:softprob', predictor=None, ...)"
      ]
     },
     "execution_count": 10,
     "metadata": {},
     "output_type": "execute_result"
    }
   ],
   "source": [
    "#features = np.array(features).squeeze()\n",
    "model = xgb.XGBClassifier()\n",
    "model.fit( X['train'], y['train'])"
   ]
  },
  {
   "cell_type": "code",
   "execution_count": 15,
   "id": "90689abd",
   "metadata": {},
   "outputs": [
    {
     "data": {
      "image/png": "[encoded data removed]",
      "text/plain": [
       "<Figure size 640x480 with 2 Axes>"
      ]
     },
     "metadata": {},
     "output_type": "display_data"
    },
    {
     "name": "stdout",
     "output_type": "stream",
     "text": [
      "Accuracy on valid dataset :  0.8194444444444444\n"
     ]
    },
    {
     "data": {
      "image/png": "[encoded data removed]",
      "text/plain": [
       "<Figure size 640x480 with 2 Axes>"
      ]
     },
     "metadata": {},
     "output_type": "display_data"
    },
    {
     "name": "stdout",
     "output_type": "stream",
     "text": [
      "Accuracy on test dataset :  0.45396825396825397\n"
     ]
    }
   ],
   "source": [
    "def make_predictions(model,dataset_type):\n",
    "    y_pred = model.predict(X[dataset_type])\n",
    "    cm = confusion_matrix(y[dataset_type],y_pred)\n",
    "    disp_cm = ConfusionMatrixDisplay(confusion_matrix=cm)\n",
    "    disp_cm.plot()\n",
    "    plt.show()\n",
    "\n",
    "    correct_predictions = cm.diagonal().sum()\n",
    "    total_samples = cm.sum()\n",
    "    accuracy = correct_predictions / total_samples\n",
    "    print(f\"Accuracy on {dataset_type} dataset : \", accuracy)\n",
    "    \n",
    "make_predictions(model,'valid')\n",
    "make_predictions(model,'test')"
   ]
  },
  {
   "cell_type": "code",
   "execution_count": null,
   "id": "127ebcc3",
   "metadata": {},
   "outputs": [],
   "source": []
  }
 ],
 "metadata": {
  "kernelspec": {
   "display_name": "DS50Env",
   "language": "python",
   "name": "ds50env"
  },
  "language_info": {
   "codemirror_mode": {
    "name": "ipython",
    "version": 3
   },
   "file_extension": ".py",
   "mimetype": "text/x-python",
   "name": "python",
   "nbconvert_exporter": "python",
   "pygments_lexer": "ipython3",
   "version": "3.9.12"
  }
 },
 "nbformat": 4,
 "nbformat_minor": 5
}
